{
 "cells": [
  {
   "cell_type": "markdown",
   "metadata": {},
   "source": [
    "# Euler Project\n",
    "- Author: @yoshiakit\n",
    "- Last updated date: Apr. 10th 2020\n",
    "- Created date: Apr. 9th 2020\n",
    "- 設問群：[URL](http://odz.sakura.ne.jp/projecteuler/index.php?Project%20Euler)"
   ]
  },
  {
   "cell_type": "code",
   "execution_count": 2,
   "metadata": {},
   "outputs": [],
   "source": [
    "import numpy as np\n",
    "import pandas as pd\n",
    "from IPython import embed\n",
    "import math\n",
    "import re\n",
    "import itertools"
   ]
  },
  {
   "cell_type": "code",
   "execution_count": 2,
   "metadata": {},
   "outputs": [
    {
     "data": {
      "text/plain": [
       "233168"
      ]
     },
     "execution_count": 2,
     "metadata": {},
     "output_type": "execute_result"
    }
   ],
   "source": [
    "\"\"\"\n",
    "Q1.\n",
    "10未満の自然数のうち, 3 もしくは 5 の倍数になっているものは 3, 5, 6, 9 の4つがあり, これらの合計は 23 になる.\n",
    "同じようにして, 1000 未満の 3 か 5 の倍数になっている数字の合計を求めよ.\n",
    "\"\"\"\n",
    "# 考えたこと：\n",
    "# (1)処理スピードを少しでも向上するために、必要最低限の計算だけ行わせることを心がける。 \n",
    "# (2)3の倍数のほうが5の倍数より発生確率が高いので、先に3の倍数かどうか判定されるようにする。\n",
    "\n",
    "def q1_func(n):\n",
    "    answer =[]\n",
    "    lim = range(n)\n",
    "    \n",
    "    for i in lim:\n",
    "        if ((i % 3 == 0) | (i % 5 == 0)):\n",
    "            answer.append(i)\n",
    "    return sum(answer)\n",
    "\n",
    "q1_func(1000)\n"
   ]
  },
  {
   "cell_type": "code",
   "execution_count": 3,
   "metadata": {},
   "outputs": [
    {
     "name": "stdout",
     "output_type": "stream",
     "text": [
      "4613732\n"
     ]
    }
   ],
   "source": [
    "\"\"\"\n",
    "Q2.\n",
    "フィボナッチ数列の項は前の2つの項の和である. 最初の2項を 1, 2 とすれば, 最初の10項は以下の通りである.\n",
    "1, 2, 3, 5, 8, 13, 21, 34, 55, 89, ...\n",
    "数列の項の値が400万以下の, 偶数値の項の総和を求めよ.\n",
    "\n",
    "\"\"\"\n",
    "\n",
    "# 考えたこと: オーバーフローしないように、計算の発生回数をできるだけ抑える(後述)\n",
    "\n",
    "f_1 = 1\n",
    "f_2 = 2\n",
    "\n",
    "fn = 3\n",
    "sum = 2\n",
    "\n",
    "while fn <= 4_000_000:\n",
    "    \n",
    "    if not fn % 2:\n",
    "      sum += fn\n",
    "    fn = f_1 + f_2\n",
    "    f_1 = f_2\n",
    "    f_2 = fn\n",
    "\n",
    "print(sum)\n"
   ]
  },
  {
   "cell_type": "code",
   "execution_count": 4,
   "metadata": {},
   "outputs": [
    {
     "data": {
      "text/plain": [
       "6857"
      ]
     },
     "execution_count": 4,
     "metadata": {},
     "output_type": "execute_result"
    }
   ],
   "source": [
    "\"\"\"\n",
    "Q3:\n",
    "13195 の素因数は 5, 7, 13, 29 である.\n",
    "600851475143 の素因数のうち最大のものを求めよ.\n",
    "\n",
    "\"\"\"\n",
    "\n",
    "# 考えたこと：非素数nの素因数はすべてnの(1/2)乗以下である性質を利用する。\n",
    "\n",
    "def max_factor(n):\n",
    "    # nの1/2乗まで小さい素数から割り切れるか検証していく\n",
    "    lim = range(math.floor(n**0.5) + 2)\n",
    "    max_factor = 0\n",
    "    target = n\n",
    "    \n",
    "    for i in lim:\n",
    "        if not target % (i + 2):\n",
    "            k = i + 2\n",
    "            max_factor = k\n",
    "            while not target % k:\n",
    "                target = target / k\n",
    "    if not max_factor:\n",
    "        max_factor = n\n",
    "\n",
    "    return max_factor\n",
    "            \n",
    "        \n",
    "max_factor(600851475143)\n",
    "    \n"
   ]
  },
  {
   "cell_type": "code",
   "execution_count": 40,
   "metadata": {},
   "outputs": [
    {
     "name": "stdout",
     "output_type": "stream",
     "text": [
      "698896\n"
     ]
    }
   ],
   "source": [
    "\"\"\"\n",
    "Q4:\n",
    "左右どちらから読んでも同じ値になる数を回文数という. 2桁の数の積で表される回文数のうち, 最大のものは 9009 = 91 × 99 である.\n",
    "では, 3桁の数の積で表される回文数の最大値を求めよ.\n",
    "\"\"\"\n",
    "\n",
    "# 考えたこと：まず回の範囲を考え、次に具体的な処理方法を考えた。\n",
    "# 100*100が5桁、1000*999が6桁なのでせいぜい6桁。この程度であれば999*999から順に計算していっても時間をかけずに計算できるだろうと判断した。\n",
    "\n",
    "def q4_func():\n",
    "    i = 1\n",
    "    \n",
    "    k1, k2 = 999, 999\n",
    "        \n",
    "    while True:\n",
    "        n_txt = str(k1*k2)\n",
    "        length = len(n_txt)\n",
    "        \n",
    "        if(length == 6):\n",
    "            if((n_txt[0] == n_txt[-1]) & (n_txt[1] == n_txt[-2]) & (n_txt[2] == n_txt[-3])):\n",
    "                return n_txt\n",
    "        elif(length == 5):\n",
    "            if((n_txt[0] == n_txt[-1]) & (n_txt[1] == n_txt[-2])):\n",
    "                return n_txt \n",
    "        elif(length == 4):\n",
    "            return 'Error'\n",
    "        \n",
    "        if(k1 == k2):\n",
    "            k2 -= 1\n",
    "        else:\n",
    "            k1 -= 1       \n",
    "                 \n",
    "print(q4_func())\n",
    "\n"
   ]
  },
  {
   "cell_type": "code",
   "execution_count": 3,
   "metadata": {},
   "outputs": [
    {
     "data": {
      "text/plain": [
       "232792560"
      ]
     },
     "execution_count": 3,
     "metadata": {},
     "output_type": "execute_result"
    }
   ],
   "source": [
    "\"\"\"\n",
    "Q5:\n",
    "2520 は 1 から 10 の数字の全ての整数で割り切れる数字であり, そのような数字の中では最小の値である.\n",
    "では, 1 から 20 までの整数全てで割り切れる数字の中で最小の正の数はいくらになるか.\n",
    "\"\"\"\n",
    "\n",
    "\n",
    "# 考えたこと：どのようなプロセスにするべきか迷ったが、以下手順で進めた。\n",
    "# (1) 2から20まで各自然数の素因数分解の結果を求める\n",
    "# (2) (1)の結果から、出現した素数ごとの乗数の最大値の一覧を取得する\n",
    "# (3) (3)を計算する\n",
    "\n",
    "\n",
    "def get_factor(n):\n",
    "    # 自然数nの素因数とその乗数をリストとして返す\n",
    "    lim = range(math.floor(n**0.5) + 2)\n",
    "    fac_list = []\n",
    "    target = n\n",
    "    \n",
    "    for i in lim:\n",
    "        if not target % (i + 2):\n",
    "            k = i + 2\n",
    "            fac_list.append([k, 0])\n",
    "            while not target % k:\n",
    "                target = target / k\n",
    "                fac_list[-1][1] += 1\n",
    "                \n",
    "    if not fac_list:\n",
    "        fac_list.append([n, 1])\n",
    "\n",
    "    return fac_list\n",
    "\n",
    "def calc_lcm(n):\n",
    "    lim = n + 1\n",
    "    merged = []\n",
    "    answer = 1\n",
    "    \n",
    "    for k in range(2, lim):\n",
    "        merged.append(get_factor(k))\n",
    "    \n",
    "    merged = list(itertools.chain.from_iterable(merged))\n",
    "    merged = np.array(merged)\n",
    "\n",
    "    prime_list = []\n",
    "    \n",
    "    p_target = np.unique([x[0] for x in merged])\n",
    "    \n",
    "    for i in range(0,len(p_target)):        \n",
    "        temp = [x[1] for x in merged if x[0] == p_target[i]]\n",
    "        max_mtp_idx = np.argmax(temp)\n",
    "        prime_list.append([p_target[i], temp[max_mtp_idx]])\n",
    "    \n",
    "    for k in range(0, len(prime_list)):\n",
    "        answer *= prime_list[k][0]**prime_list[k][1]\n",
    "    \n",
    "    return answer\n",
    "\n",
    "\n",
    "calc_lcm(20)\n"
   ]
  },
  {
   "cell_type": "markdown",
   "metadata": {},
   "source": [
    "## Q1~5まで: 工夫した点・反省点・学んだ点等\n",
    "\n",
    "- Q2にて、オーバーフローしないように最低限の数値計算のみを行わせた点。当初、フィボナッチ数列の偶数項をリストとして生成し、その和を求めようとしたがオーバーフローした。URLを参考に、リストを用いずに回答に必要な数値計算のみを行った。今まで独学をすすめる中で、オーバーフローしないようにという視点で全く考えてコードを書いていなかった点に気付かされた。\n",
    "[参考URL](https://stackoverflow.com/questions/13984077/project-euler-2)\n",
    "- ロジックの組み立て方で大いに反省が残った。Q3は比較的短く簡潔に書くことができたかと思われるが、Q5は論理を頭の中で組み立てていった結果、かなりコードを長く書いてしまった。必要最低限のみのコードだけを書こうともっと心がければ、例えばコメントアウト欄に書いた(1)を廃し、「20から2に向かって、『自分の素因数を使って自分より小さい数を表現できるか？』というロジック」を作り、必要な素因数を効果的に収集できたと思う。いきなりコードを書き始めるのではなく、より問題/課題の性質を理解するのに時間を書けてからはじめてコードを書くべきだと感じた。"
   ]
  },
  {
   "cell_type": "code",
   "execution_count": 10,
   "metadata": {},
   "outputs": [
    {
     "name": "stdout",
     "output_type": "stream",
     "text": [
      "25164150\n"
     ]
    }
   ],
   "source": [
    "\"\"\"\n",
    "Q.6:\n",
    "最初の10個の自然数について, その二乗の和は,\n",
    "12 + 22 + ... + 102 = 385\n",
    "最初の10個の自然数について, その和の二乗は,\n",
    "(1 + 2 + ... + 10)2 = 3025\n",
    "これらの数の差は 3025 - 385 = 2640 となる.\n",
    "\n",
    "同様にして, 最初の100個の自然数について二乗の和と和の二乗の差を求めよ.\n",
    "\n",
    "\"\"\"\n",
    "\n",
    "arr = np.arange(1,101)\n",
    "\n",
    "sum_of_sq = sum(arr ** 2)\n",
    "sq_of_sum = sum(arr) ** 2\n",
    "print(abs(sum_of_sq - sq_of_sum))\n"
   ]
  },
  {
   "cell_type": "code",
   "execution_count": 24,
   "metadata": {},
   "outputs": [
    {
     "data": {
      "text/plain": [
       "104743"
      ]
     },
     "execution_count": 24,
     "metadata": {},
     "output_type": "execute_result"
    }
   ],
   "source": [
    "\"\"\"\n",
    "Q.7\n",
    "素数を小さい方から6つ並べると 2, 3, 5, 7, 11, 13 であり, 6番目の素数は 13 である.\n",
    "10 001 番目の素数を求めよ.\n",
    "\"\"\"\n",
    "def get_prime(order):\n",
    "    p_idx, n  = 1, 2\n",
    "    \n",
    "    while True:\n",
    "        #Initialize\n",
    "        limit = math.ceil(n ** (1/2))\n",
    "        p_flag = True\n",
    "        j=2\n",
    "        \n",
    "        while j < limit+1:\n",
    "            if((n / j).is_integer()):\n",
    "                p_flag = False\n",
    "                break #何かで割り切れるわけだから合成数。\n",
    "            else:\n",
    "                j += 1\n",
    "            \n",
    "        if(p_flag):\n",
    "            p_idx += 1\n",
    "\n",
    "        if(p_idx == order):\n",
    "            return n\n",
    "        n += 1\n",
    "        \n",
    "get_prime(10_001)"
   ]
  },
  {
   "cell_type": "code",
   "execution_count": 16,
   "metadata": {},
   "outputs": [
    {
     "data": {
      "text/plain": [
       "23514624000"
      ]
     },
     "execution_count": 16,
     "metadata": {},
     "output_type": "execute_result"
    }
   ],
   "source": [
    "\"\"\"\n",
    "Q8.\n",
    "\n",
    "次の1000桁の数字のうち, 隣接する4つの数字の総乗の中で, 最大となる値は, 9 × 9 × 8 × 9 = 5832である.\n",
    "73167176531330624919225119674426574742355349194934\n",
    "96983520312774506326239578318016984801869478851843\n",
    "85861560789112949495459501737958331952853208805511\n",
    "12540698747158523863050715693290963295227443043557\n",
    "66896648950445244523161731856403098711121722383113\n",
    "62229893423380308135336276614282806444486645238749\n",
    "30358907296290491560440772390713810515859307960866\n",
    "70172427121883998797908792274921901699720888093776\n",
    "65727333001053367881220235421809751254540594752243\n",
    "52584907711670556013604839586446706324415722155397\n",
    "53697817977846174064955149290862569321978468622482\n",
    "83972241375657056057490261407972968652414535100474\n",
    "82166370484403199890008895243450658541227588666881\n",
    "16427171479924442928230863465674813919123162824586\n",
    "17866458359124566529476545682848912883142607690042\n",
    "24219022671055626321111109370544217506941658960408\n",
    "07198403850962455444362981230987879927244284909188\n",
    "84580156166097919133875499200524063689912560717606\n",
    "05886116467109405077541002256983155200055935729725\n",
    "71636269561882670428252483600823257530420752963450\n",
    "この1000桁の数字から13個の連続する数字を取り出して, それらの総乗を計算する. では、それら総乗のうち、最大となる値はいくらか.\n",
    "\n",
    "EX 6桁の数123789から5個の連続する数字を取り出す場合, 1*2*3*7*8と2*3*7*8*9の二通りとなり, 後者の2*3*7*8*9=3024が最大の総乗となる.\n",
    "\n",
    "\"\"\"\n",
    "\n",
    "def calc_pd(num ,width):\n",
    "    if(num < width):\n",
    "        return \"Error!\"\n",
    "    \n",
    "    str_num = str(num)\n",
    "    calc_array = np.zeros(len(str_num))\n",
    "    max_val = 0\n",
    "    \n",
    "    for i in range(0, len(str_num)):\n",
    "        calc_array[i] = int(str_num[i])\n",
    "    \n",
    "    limit =len(str_num) - 2 + 1\n",
    "    for j in range(0,limit):\n",
    "        max_val = max(max_val, np.prod(calc_array[j:(j+width)]))\n",
    "\n",
    "    return int(max_val)\n",
    "\n",
    "\n",
    "\n",
    "target=7316717653133062491922511967442657474235534919493496983520312774506326239578318016984801869478851843858615607891129494954595017379583319528532088055111254069874715852386305071569329096329522744304355766896648950445244523161731856403098711121722383113622298934233803081353362766142828064444866452387493035890729629049156044077239071381051585930796086670172427121883998797908792274921901699720888093776657273330010533678812202354218097512545405947522435258490771167055601360483958644670632441572215539753697817977846174064955149290862569321978468622482839722413756570560574902614079729686524145351004748216637048440319989000889524345065854122758866688116427171479924442928230863465674813919123162824586178664583591245665294765456828489128831426076900422421902267105562632111110937054421750694165896040807198403850962455444362981230987879927244284909188845801561660979191338754992005240636899125607176060588611646710940507754100225698315520005593572972571636269561882670428252483600823257530420752963450\n",
    "\n",
    "\n",
    "\n",
    "calc_pd(target, 13)"
   ]
  }
 ],
 "metadata": {
  "kernelspec": {
   "display_name": "Python 3",
   "language": "python",
   "name": "python3"
  },
  "language_info": {
   "codemirror_mode": {
    "name": "ipython",
    "version": 3
   },
   "file_extension": ".py",
   "mimetype": "text/x-python",
   "name": "python",
   "nbconvert_exporter": "python",
   "pygments_lexer": "ipython3",
   "version": "3.8.2"
  }
 },
 "nbformat": 4,
 "nbformat_minor": 2
}
